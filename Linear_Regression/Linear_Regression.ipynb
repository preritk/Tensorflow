{
 "cells": [
  {
   "cell_type": "code",
   "execution_count": 51,
   "metadata": {},
   "outputs": [
    {
     "name": "stdout",
     "output_type": "stream",
     "text": [
      "Epoch: 249 ,cost = 0.2811743915081024 \n",
      "Epoch: 499 ,cost = 0.18751002848148346 \n",
      "Epoch: 749 ,cost = 0.13679763674736023 \n",
      "Epoch: 999 ,cost = 0.10934443026781082 \n",
      "Epoch: 1249 ,cost = 0.09448536485433578 \n",
      "Epoch: 1499 ,cost = 0.08644486963748932 \n",
      "Epoch: 1749 ,cost = 0.08209557831287384 \n",
      "Epoch: 1999 ,cost = 0.07974397391080856 \n",
      "Epoch: 2249 ,cost = 0.07847345620393753 \n",
      "Epoch: 2499 ,cost = 0.07778757065534592 \n",
      "Epoch: 2749 ,cost = 0.07741770893335342 \n",
      "Epoch: 2999 ,cost = 0.07721856236457825 \n",
      "Epoch: 3249 ,cost = 0.0771116241812706 \n",
      "Epoch: 3499 ,cost = 0.07705435156822205 \n",
      "Epoch: 3749 ,cost = 0.07702383399009705 \n",
      "Epoch: 3999 ,cost = 0.07700765877962112 \n",
      "Epoch: 4249 ,cost = 0.07699916511774063 \n",
      "Epoch: 4499 ,cost = 0.07699477672576904 \n",
      "Epoch: 4749 ,cost = 0.07699255645275116 \n",
      "Epoch: 4999 ,cost = 0.07699145376682281 \n",
      "OPTIMIZATION FINISHED!\n",
      "Final cost is : 0.07699145376682281 ,weight = 0.2503405213356018 ,bias values = 0.7960926294326782\n"
     ]
    },
    {
     "data": {
      "image/png": "[encoded data removed]",
      "text/plain": [
       "<matplotlib.figure.Figure at 0x7f89fc2a4da0>"
      ]
     },
     "metadata": {},
     "output_type": "display_data"
    }
   ],
   "source": [
    "import tensorflow as tf\n",
    "import numpy as np\n",
    "import pandas as pd\n",
    "import matplotlib.pyplot as plt\n",
    "learning_rate = 0.01\n",
    "training_epochs = 5000\n",
    "display_step = 250\n",
    "rng = np.random\n",
    "\n",
    "train_X = np.asarray(pd.read_csv('./untitled7.csv',header = None, usecols = [0]).values.flatten())\n",
    "train_Y = np.asarray(pd.read_csv('./untitled7.csv',header = None, usecols = [1]).values.flatten())\n",
    "m = (np.shape(train_X))[0]    #Size of dataset\n",
    "\n",
    "X = tf.placeholder(\"float\")\n",
    "Y = tf.placeholder(\"float\")\n",
    "\n",
    "W = tf.Variable(rng.randn(),name = \"weight\")\n",
    "b = tf.Variable(rng.randn(),name = \"bias\")\n",
    "\n",
    "pred = tf.add(tf.multiply(X,W),b)\n",
    "\n",
    "cost = tf.reduce_sum(tf.pow(pred - Y,2))/(2*m)\n",
    "\n",
    "optimizer = tf.train.GradientDescentOptimizer(learning_rate).minimize(cost)\n",
    "\n",
    "model = tf.global_variables_initializer()\n",
    "\n",
    "with tf.Session() as session:\n",
    "    session.run(model)\n",
    "    for epoch in range(training_epochs):\n",
    "        for (x,y) in zip(train_X,train_Y):\n",
    "            session.run(optimizer,feed_dict = {X:x, Y:y})\n",
    "        \n",
    "        if (epoch+1) % display_step ==0 :\n",
    "            c = session.run(cost,feed_dict = {X:train_X, Y:train_Y})\n",
    "            print(\"Epoch: {} ,cost = {} \".format(epoch,c))\n",
    "    print(\"OPTIMIZATION FINISHED!\")\n",
    "    training_cost = session.run(cost,feed_dict = {X:train_X, Y:train_Y})\n",
    "    print(\"Final cost is : {} ,weight = {} ,bias values = {}\".format(training_cost,session.run(W),session.run(b)))\n",
    "    plt.plot(train_X,train_Y,'ro')\n",
    "    plt.plot(train_X, session.run(W) * train_X + session.run(b), label='Fitted line')  \n",
    "    plt.xlabel(\"Area\")\n",
    "    plt.ylabel(\"Cost\")  \n",
    "    plt.show()   \n",
    "    \n",
    "            "
   ]
  },
  {
   "cell_type": "code",
   "execution_count": null,
   "metadata": {},
   "outputs": [],
   "source": []
  }
 ],
 "metadata": {
  "kernelspec": {
   "display_name": "Python 3",
   "language": "python",
   "name": "python3"
  },
  "language_info": {
   "codemirror_mode": {
    "name": "ipython",
    "version": 3
   },
   "file_extension": ".py",
   "mimetype": "text/x-python",
   "name": "python",
   "nbconvert_exporter": "python",
   "pygments_lexer": "ipython3",
   "version": "3.6.3"
  }
 },
 "nbformat": 4,
 "nbformat_minor": 2
}
